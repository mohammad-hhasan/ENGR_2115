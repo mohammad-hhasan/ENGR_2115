{
 "cells": [
  {
   "cell_type": "markdown",
   "id": "still-dancing",
   "metadata": {},
   "source": [
    "## Below is an example of a slider plot in Jupyter\n",
    "The plot generates a sine signal with different frequencies:\n",
    "$y(x) = sin(\\omega x), \\omega\\in[0,3]$"
   ]
  },
  {
   "cell_type": "code",
   "execution_count": 32,
   "id": "consecutive-ancient",
   "metadata": {},
   "outputs": [
    {
     "data": {
      "application/vnd.jupyter.widget-view+json": {
       "model_id": "c89a4cc507a14f73a13f1fd64193418a",
       "version_major": 2,
       "version_minor": 0
      },
      "text/plain": [
       "interactive(children=(FloatSlider(value=0.6699999999999999, description='beta', max=1.0, min=0.35, step=0.01),…"
      ]
     },
     "metadata": {},
     "output_type": "display_data"
    }
   ],
   "source": [
    "# For integration.\n",
    "import scipy.integrate \n",
    "\n",
    "# For arrays (Python does not have native arrays).\n",
    "import numpy as np\n",
    "\n",
    "# For graphing.\n",
    "import matplotlib.pyplot as plt \n",
    "\n",
    "# Prevents the pop-up graphs in a separate window.\n",
    "get_ipython().run_line_magic('matplotlib', 'inline')\n",
    "\n",
    "# Allows for an interactive widget bar.\n",
    "from ipywidgets import interactive \n",
    "\n",
    "S0 = 0.95\n",
    "I0 = 0.05\n",
    "R0 = 0.0\n",
    "\n",
    "\n",
    "\n",
    "def SIR_model(y, t, beta, gamma):\n",
    "\n",
    "    S, I, R = y\n",
    "    \n",
    "    dS_dt = -beta*S*I\n",
    "    dI_dt = beta*S*I - gamma*I\n",
    "    dR_dt = gamma*I\n",
    "    \n",
    "    return([dS_dt, dI_dt, dR_dt])\n",
    "    \n",
    "def sir_interactive_func(beta, gamma):\n",
    "    \n",
    "    # Graph from 0 to 100, include 10000 points.\n",
    "    t = np.linspace(0, 100, 10000) \n",
    "    \n",
    "    solution = scipy.integrate.odeint(SIR_model, [S0, I0, R0], t, args=(beta, gamma))\n",
    "    solution = np.array(solution)\n",
    "\n",
    "    plt.figure(figsize=[8, 5])\n",
    "\n",
    "    plt.plot(t, solution[:, 0], label=\"S(t)\")\n",
    "    plt.plot(t, solution[:, 1], label=\"I(t)\")\n",
    "    plt.plot(t, solution[:, 2], label=\"R(t)\")\n",
    "    plt.plot([beta*100,beta*100], [0,0.8], label=\"Linear\")\n",
    "\n",
    "    plt.grid()\n",
    "    plt.legend()\n",
    "\n",
    "    plt.title(\"SIR Model\")\n",
    "    plt.xlabel(\"Time\")\n",
    "    plt.ylabel(\"Proportions of Populations\")\n",
    "    \n",
    "\n",
    "interactive_plot = interactive(sir_interactive_func, beta=(0.35,1,0.01), gamma=(0.1,1,0.01))\n",
    "interactive_plot"
   ]
  },
  {
   "cell_type": "code",
   "execution_count": 33,
   "id": "warming-thought",
   "metadata": {},
   "outputs": [
    {
     "data": {
      "application/vnd.jupyter.widget-view+json": {
       "model_id": "9fb5ba7d31eb48d0b5975c9249b3b783",
       "version_major": 2,
       "version_minor": 0
      },
      "text/plain": [
       "interactive(children=(FloatSlider(value=0.0, description='x', max=1.0, step=0.05), Output()), _dom_classes=('w…"
      ]
     },
     "metadata": {},
     "output_type": "display_data"
    }
   ],
   "source": [
    "# For integration.\n",
    "import scipy.integrate \n",
    "\n",
    "# For arrays (Python does not have native arrays).\n",
    "import numpy as np\n",
    "\n",
    "# For graphing.\n",
    "import matplotlib.pyplot as plt \n",
    "\n",
    "# Prevents the pop-up graphs in a separate window.\n",
    "get_ipython().run_line_magic('matplotlib', 'inline')\n",
    "\n",
    "# Allows for an interactive widget bar.\n",
    "from ipywidgets import interactive \n",
    "\n",
    "S0 = 0.95\n",
    "I0 = 0.05\n",
    "R0 = 0.0\n",
    "\n",
    "\n",
    "\n",
    "def SIR_model(y, t, beta, gamma):\n",
    "\n",
    "    S, I, R = y\n",
    "    \n",
    "    dS_dt = -beta*S*I\n",
    "    dI_dt = beta*S*I - gamma*I\n",
    "    dR_dt = gamma*I\n",
    "    \n",
    "    return([dS_dt, dI_dt, dR_dt])\n",
    "    \n",
    "def InteractiveFunctionDrawing(x):\n",
    "    \n",
    "    # Graph from 0 to 100, include 10000 points.\n",
    "    t = np.linspace(0, 1, 1000) \n",
    "    \n",
    "    solution = np.square(t)\n",
    "    solution = np.array(solution)\n",
    "\n",
    "    plt.figure(figsize=[8, 5])\n",
    "\n",
    "    plt.plot(t, solution, label=\"Function y=$x^2$\")\n",
    "    plt.plot([x,x], [0,np.square(x)], label=\"Stripe\")\n",
    "\n",
    "    plt.grid()\n",
    "    plt.legend()\n",
    "\n",
    "    plt.title(\"Stripe integration visualized\")\n",
    "    plt.xlabel(\"x\")\n",
    "    plt.ylabel(\"y\")\n",
    "    \n",
    "\n",
    "interactive_plot = interactive(InteractiveFunctionDrawing, x=(0,1,0.05))\n",
    "interactive_plot"
   ]
  },
  {
   "cell_type": "code",
   "execution_count": 31,
   "id": "pressed-poker",
   "metadata": {},
   "outputs": [
    {
     "data": {
      "application/vnd.jupyter.widget-view+json": {
       "model_id": "07aacfdf76374dbcb03701a434f9bf1a",
       "version_major": 2,
       "version_minor": 0
      },
      "text/plain": [
       "interactive(children=(FloatSlider(value=0.0, description='x', max=1.0, step=0.05), Output()), _dom_classes=('w…"
      ]
     },
     "metadata": {},
     "output_type": "display_data"
    }
   ],
   "source": [
    "# For integration.\n",
    "import scipy.integrate \n",
    "\n",
    "# For arrays (Python does not have native arrays).\n",
    "import numpy as np\n",
    "\n",
    "# For graphing.\n",
    "import matplotlib.pyplot as plt \n",
    "\n",
    "# Prevents the pop-up graphs in a separate window.\n",
    "get_ipython().run_line_magic('matplotlib', 'inline')\n",
    "\n",
    "# Allows for an interactive widget bar.\n",
    "from ipywidgets import interactive \n",
    "\n",
    "S0 = 0.95\n",
    "I0 = 0.05\n",
    "R0 = 0.0\n",
    "\n",
    "\n",
    "\n",
    "def SIR_model(y, t, beta, gamma):\n",
    "\n",
    "    S, I, R = y\n",
    "    \n",
    "    dS_dt = -beta*S*I\n",
    "    dI_dt = beta*S*I - gamma*I\n",
    "    dR_dt = gamma*I\n",
    "    \n",
    "    return([dS_dt, dI_dt, dR_dt,])\n",
    "    \n",
    "def InteractiveFunctionDrawing(x):\n",
    "    \n",
    "    # Graph from 0 to 100, include 10000 points.\n",
    "    t = np.linspace(0, 1, 1000) \n",
    "    \n",
    "    solution1 = np.power(t,2/3)\n",
    "    solution1 = np.array(solution1)\n",
    "    solution2 = np.power(t,3/2)\n",
    "    solution2 = np.array(solution2)\n",
    "\n",
    "    plt.figure(figsize=[8, 5])\n",
    "\n",
    "    plt.plot(t, solution1, label=\"Function y=$x^{2/3}$\")\n",
    "    plt.plot(t, solution2, label=\"Function y=$x^{3/2}$\")\n",
    "\n",
    "    plt.plot([x,x], [np.power(x,3/2),np.power(x,2/3)], label=\"Stripe\")\n",
    "\n",
    "    plt.grid()\n",
    "    plt.legend()\n",
    "\n",
    "    plt.title(\"Stripe integration visualized\")\n",
    "    plt.xlabel(\"x\")\n",
    "    plt.ylabel(\"y\")\n",
    "    \n",
    "\n",
    "interactive_plot = interactive(InteractiveFunctionDrawing, x=(0,1,0.05))\n",
    "interactive_plot"
   ]
  },
  {
   "cell_type": "code",
   "execution_count": null,
   "id": "protective-commodity",
   "metadata": {},
   "outputs": [],
   "source": []
  }
 ],
 "metadata": {
  "kernelspec": {
   "display_name": "Python 3",
   "language": "python",
   "name": "python3"
  },
  "language_info": {
   "codemirror_mode": {
    "name": "ipython",
    "version": 3
   },
   "file_extension": ".py",
   "mimetype": "text/x-python",
   "name": "python",
   "nbconvert_exporter": "python",
   "pygments_lexer": "ipython3",
   "version": "3.8.8"
  }
 },
 "nbformat": 4,
 "nbformat_minor": 5
}
